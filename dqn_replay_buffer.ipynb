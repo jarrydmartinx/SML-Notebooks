{
  "nbformat": 4,
  "nbformat_minor": 0,
  "metadata": {
    "colab": {
      "name": "dqn-replay-buffer.ipynb",
      "provenance": [],
      "collapsed_sections": [],
      "include_colab_link": true
    },
    "kernelspec": {
      "name": "python3",
      "display_name": "Python 3"
    }
  },
  "cells": [
    {
      "cell_type": "markdown",
      "metadata": {
        "id": "view-in-github",
        "colab_type": "text"
      },
      "source": [
        "<a href=\"https://colab.research.google.com/github/jarrydmartinx/deep-rl/blob/master/dqn_replay_buffer.ipynb\" target=\"_parent\"><img src=\"https://colab.research.google.com/assets/colab-badge.svg\" alt=\"Open In Colab\"/></a>"
      ]
    },
    {
      "cell_type": "code",
      "metadata": {
        "id": "j8ozr1jb1QAK",
        "colab_type": "code",
        "colab": {}
      },
      "source": [
        "# @title Install\n",
        "\n",
        "! pip install -q gym\n",
        "! pip install -q trfl"
      ],
      "execution_count": 0,
      "outputs": []
    },
    {
      "cell_type": "code",
      "metadata": {
        "id": "X_kSnoZc3FMm",
        "colab_type": "code",
        "colab": {}
      },
      "source": [
        "#@title Import\n",
        "import numpy as np\n",
        "import tensorflow as tf\n",
        "import sonnet as snt\n",
        "import tensorflow_probability as tfp\n",
        "import trfl\n",
        "import gym\n",
        "import pandas as pd\n",
        "import matplotlib.pyplot as plt\n",
        "from typing import List\n"
      ],
      "execution_count": 0,
      "outputs": []
    },
    {
      "cell_type": "code",
      "metadata": {
        "id": "NHmEbqMF3K_2",
        "colab_type": "code",
        "cellView": "both",
        "colab": {}
      },
      "source": [
        "#@title Make Environment\n",
        "env = gym.make(\"CartPole-v1\")\n",
        "num_actions = env.action_space\n",
        "obs_space = env.observation_space"
      ],
      "execution_count": 0,
      "outputs": []
    },
    {
      "cell_type": "code",
      "metadata": {
        "id": "SeG8N_B86q3t",
        "colab_type": "code",
        "colab": {}
      },
      "source": [
        "#@title Hyperparameters\n",
        "epsilon = 0.01\n",
        "gamma = 0.99\n",
        "learning_rate = 1e-3\n",
        "batch_size = 16\n",
        "target_update_period = 1"
      ],
      "execution_count": 0,
      "outputs": []
    },
    {
      "cell_type": "code",
      "metadata": {
        "id": "3aWF46En3mqk",
        "colab_type": "code",
        "cellView": "code",
        "outputId": "c019ee1f-ba97-4f3c-d227-a6c929877101",
        "colab": {
          "base_uri": "https://localhost:8080/",
          "height": 130
        }
      },
      "source": [
        "#@title Replay Buffer\n",
        "from collections import namedtuple\n",
        "\n",
        "Transition = namedtuple('Transition', ['obs', \n",
        "                                       'action', \n",
        "                                       'reward', \n",
        "                                       'discount',\n",
        "                                       'new_obs'])\n",
        "\n",
        "class ReplayBuffer:\n",
        "  def __init__(self, capacity: int = 1000):\n",
        "    \n",
        "    self._capacity = capacity\n",
        "    self._contents = None\n",
        "    self._num_inserted = 0\n",
        "    \n",
        "  def add(self, transition: List[np.ndarray]):\n",
        "    # Initialise the replay buffer if we haven't already\n",
        "    if not self._contents:\n",
        "      def make_slot(self, x: np.ndarray):\n",
        "        return np.zeros(shape=self._capacity, *x.shape), dtype=x.dtype)\n",
        "      \n",
        "      self._contents = [make_slot(x) for x in transition]\n",
        "    \n",
        "    # Insert the item\n",
        "    slot = self._num_inserted % self._capacity\n",
        "    for idx, x in enumerate(transition):\n",
        "      self._contents[idx][slot] = x # self._contents shape is (5, capacity)\n",
        "     \n",
        "      self._num_inserted += 1\n",
        "  \n",
        "  def sample(self, batch_size: int):\n",
        "    if not self.size:\n",
        "      raise KeyError('The replay buffer is empty')\n",
        "    indices = np.random.randint(low=0, high=self.size, size=batch_size)\n",
        "    \n",
        "    return Transition(*[x[indices] for x in self._contents])\n",
        "  \n",
        "  @property\n",
        "  def size(self):\n",
        "    return min(self._num_inserted, self._capacity)\n",
        "  \n",
        "  "
      ],
      "execution_count": 0,
      "outputs": [
        {
          "output_type": "error",
          "ename": "SyntaxError",
          "evalue": "ignored",
          "traceback": [
            "\u001b[0;36m  File \u001b[0;32m\"<ipython-input-6-d3d61913d094>\"\u001b[0;36m, line \u001b[0;32m20\u001b[0m\n\u001b[0;31m    return np.zeros(shape=self._capacity, *x.shape), dtype=x.dtype\u001b[0m\n\u001b[0m                                                          ^\u001b[0m\n\u001b[0;31mSyntaxError\u001b[0m\u001b[0;31m:\u001b[0m invalid syntax\n"
          ]
        }
      ]
    },
    {
      "cell_type": "code",
      "metadata": {
        "id": "pxTIVUPV3vL7",
        "colab_type": "code",
        "colab": {}
      },
      "source": [
        "#@title Build Graph\n",
        "\n"
      ],
      "execution_count": 0,
      "outputs": []
    },
    {
      "cell_type": "code",
      "metadata": {
        "id": "MnceJthN32tK",
        "colab_type": "code",
        "colab": {}
      },
      "source": [
        "#@title Training Loop"
      ],
      "execution_count": 0,
      "outputs": []
    },
    {
      "cell_type": "code",
      "metadata": {
        "id": "OliefcUD36yy",
        "colab_type": "code",
        "colab": {}
      },
      "source": [
        "#@title Results"
      ],
      "execution_count": 0,
      "outputs": []
    }
  ]
}